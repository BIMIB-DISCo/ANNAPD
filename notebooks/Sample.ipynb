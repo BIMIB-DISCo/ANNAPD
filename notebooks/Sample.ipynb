{
 "cells": [
  {
   "cell_type": "markdown",
   "metadata": {
    "Collapsed": "false"
   },
   "source": [
    "# Imports"
   ]
  },
  {
   "cell_type": "code",
   "execution_count": 7,
   "metadata": {
    "Collapsed": "false"
   },
   "outputs": [
    {
     "name": "stdout",
     "output_type": "stream",
     "text": [
      "The autoreload extension is already loaded. To reload it, use:\n",
      "  %reload_ext autoreload\n"
     ]
    }
   ],
   "source": [
    "%load_ext autoreload\n",
    "%autoreload 2"
   ]
  },
  {
   "cell_type": "code",
   "execution_count": 19,
   "metadata": {
    "Collapsed": "false"
   },
   "outputs": [],
   "source": [
    "import sys\n",
    "import os\n",
    "sys.path.append(os.path.abspath(\"../\"))\n",
    "\n",
    "import pickle\n",
    "import pandas as pd\n",
    "import numpy as np\n",
    "import seaborn as sns\n",
    "import matplotlib.pyplot as plt\n",
    "\n",
    "from notebooks.ntb_utils import *\n",
    "from actpatt_dag.analysis.decision_tree import DecisionTree\n",
    "from actpatt_dag.torch_dataset.indexed_dataset import *\n",
    "from actpatt_dag.torch_dataset.vision_datasets import *"
   ]
  },
  {
   "cell_type": "markdown",
   "metadata": {
    "Collapsed": "false"
   },
   "source": [
    "# Data"
   ]
  },
  {
   "cell_type": "code",
   "execution_count": 20,
   "metadata": {
    "Collapsed": "false"
   },
   "outputs": [
    {
     "name": "stdout",
     "output_type": "stream",
     "text": [
      "Layers indeces: ['l0', 'l1', 'l2', 'l3', 'l4']\n"
     ]
    }
   ],
   "source": [
    "layers_idx = [f\"l{i}\" for i in range(5)]\n",
    "print(\"Layers indeces:\", layers_idx)"
   ]
  },
  {
   "cell_type": "markdown",
   "metadata": {
    "Collapsed": "false"
   },
   "source": [
    "### Load collected data"
   ]
  },
  {
   "cell_type": "code",
   "execution_count": 21,
   "metadata": {
    "Collapsed": "false"
   },
   "outputs": [
    {
     "data": {
      "text/plain": [
       "dict_keys(['forgetting_events', 'training_loss', 'training_accuracy', 'train_apdf', 'test_apdf'])"
      ]
     },
     "execution_count": 21,
     "metadata": {},
     "output_type": "execute_result"
    }
   ],
   "source": [
    "data = load_pickle(\"../data/MNIST_stats.pkl\")\n",
    "data.keys()"
   ]
  },
  {
   "cell_type": "markdown",
   "metadata": {
    "Collapsed": "false"
   },
   "source": [
    "### Load train dataframe"
   ]
  },
  {
   "cell_type": "code",
   "execution_count": 22,
   "metadata": {
    "Collapsed": "false"
   },
   "outputs": [
    {
     "data": {
      "text/html": [
       "<div>\n",
       "<style scoped>\n",
       "    .dataframe tbody tr th:only-of-type {\n",
       "        vertical-align: middle;\n",
       "    }\n",
       "\n",
       "    .dataframe tbody tr th {\n",
       "        vertical-align: top;\n",
       "    }\n",
       "\n",
       "    .dataframe thead th {\n",
       "        text-align: right;\n",
       "    }\n",
       "</style>\n",
       "<table border=\"1\" class=\"dataframe\">\n",
       "  <thead>\n",
       "    <tr style=\"text-align: right;\">\n",
       "      <th></th>\n",
       "      <th>instance</th>\n",
       "      <th>label</th>\n",
       "      <th>output</th>\n",
       "      <th>l0</th>\n",
       "      <th>l1</th>\n",
       "      <th>l2</th>\n",
       "      <th>l3</th>\n",
       "      <th>l4</th>\n",
       "      <th>correct</th>\n",
       "    </tr>\n",
       "  </thead>\n",
       "  <tbody>\n",
       "    <tr>\n",
       "      <th>0</th>\n",
       "      <td>31221</td>\n",
       "      <td>2</td>\n",
       "      <td>2</td>\n",
       "      <td>10101101011110010010110010110110</td>\n",
       "      <td>00100000101100101111010100011111</td>\n",
       "      <td>11101001011010111111001001011101</td>\n",
       "      <td>11011101100011000111101110001110</td>\n",
       "      <td>01011001100000001011111100000111</td>\n",
       "      <td>1</td>\n",
       "    </tr>\n",
       "    <tr>\n",
       "      <th>1</th>\n",
       "      <td>23380</td>\n",
       "      <td>0</td>\n",
       "      <td>0</td>\n",
       "      <td>00011000011110010011100001110100</td>\n",
       "      <td>01101001101100011111011100011010</td>\n",
       "      <td>11110001010110111111101101101111</td>\n",
       "      <td>01011100100110011111100101000000</td>\n",
       "      <td>11111101010011100111101010010101</td>\n",
       "      <td>1</td>\n",
       "    </tr>\n",
       "    <tr>\n",
       "      <th>2</th>\n",
       "      <td>24648</td>\n",
       "      <td>4</td>\n",
       "      <td>4</td>\n",
       "      <td>00101111111111010100100001011011</td>\n",
       "      <td>00110000110100011110111110100110</td>\n",
       "      <td>01110011000011111101101000011111</td>\n",
       "      <td>01011101101111011001110101011100</td>\n",
       "      <td>00110100100011000001010000011111</td>\n",
       "      <td>1</td>\n",
       "    </tr>\n",
       "    <tr>\n",
       "      <th>3</th>\n",
       "      <td>45824</td>\n",
       "      <td>9</td>\n",
       "      <td>9</td>\n",
       "      <td>00101011111110010010000001111010</td>\n",
       "      <td>00110000110110011110111110000111</td>\n",
       "      <td>11110011001010110101101001011111</td>\n",
       "      <td>01011111101111011011110101011100</td>\n",
       "      <td>01010100011011000011111010011101</td>\n",
       "      <td>1</td>\n",
       "    </tr>\n",
       "    <tr>\n",
       "      <th>4</th>\n",
       "      <td>58215</td>\n",
       "      <td>2</td>\n",
       "      <td>2</td>\n",
       "      <td>10111101001100010101010000100110</td>\n",
       "      <td>00110000101110111111010100011110</td>\n",
       "      <td>11101011111010011110101001010100</td>\n",
       "      <td>11011101100011000111101110011110</td>\n",
       "      <td>01011001100000001011111100000111</td>\n",
       "      <td>1</td>\n",
       "    </tr>\n",
       "  </tbody>\n",
       "</table>\n",
       "</div>"
      ],
      "text/plain": [
       "  instance label output                                l0  \\\n",
       "0    31221     2      2  10101101011110010010110010110110   \n",
       "1    23380     0      0  00011000011110010011100001110100   \n",
       "2    24648     4      4  00101111111111010100100001011011   \n",
       "3    45824     9      9  00101011111110010010000001111010   \n",
       "4    58215     2      2  10111101001100010101010000100110   \n",
       "\n",
       "                                 l1                                l2  \\\n",
       "0  00100000101100101111010100011111  11101001011010111111001001011101   \n",
       "1  01101001101100011111011100011010  11110001010110111111101101101111   \n",
       "2  00110000110100011110111110100110  01110011000011111101101000011111   \n",
       "3  00110000110110011110111110000111  11110011001010110101101001011111   \n",
       "4  00110000101110111111010100011110  11101011111010011110101001010100   \n",
       "\n",
       "                                 l3                                l4  correct  \n",
       "0  11011101100011000111101110001110  01011001100000001011111100000111        1  \n",
       "1  01011100100110011111100101000000  11111101010011100111101010010101        1  \n",
       "2  01011101101111011001110101011100  00110100100011000001010000011111        1  \n",
       "3  01011111101111011011110101011100  01010100011011000011111010011101        1  \n",
       "4  11011101100011000111101110011110  01011001100000001011111100000111        1  "
      ]
     },
     "execution_count": 22,
     "metadata": {},
     "output_type": "execute_result"
    }
   ],
   "source": [
    "train_df = data['train_apdf']\n",
    "\n",
    "# Add column for correct/wrong instances \n",
    "train_df['correct'] = np.where(train_df.label == train_df.output, 1, 0)\n",
    "\n",
    "train_df.head()"
   ]
  },
  {
   "cell_type": "markdown",
   "metadata": {
    "Collapsed": "false"
   },
   "source": [
    "### Load test dataframe"
   ]
  },
  {
   "cell_type": "code",
   "execution_count": 23,
   "metadata": {
    "Collapsed": "false"
   },
   "outputs": [
    {
     "data": {
      "text/html": [
       "<div>\n",
       "<style scoped>\n",
       "    .dataframe tbody tr th:only-of-type {\n",
       "        vertical-align: middle;\n",
       "    }\n",
       "\n",
       "    .dataframe tbody tr th {\n",
       "        vertical-align: top;\n",
       "    }\n",
       "\n",
       "    .dataframe thead th {\n",
       "        text-align: right;\n",
       "    }\n",
       "</style>\n",
       "<table border=\"1\" class=\"dataframe\">\n",
       "  <thead>\n",
       "    <tr style=\"text-align: right;\">\n",
       "      <th></th>\n",
       "      <th>instance</th>\n",
       "      <th>label</th>\n",
       "      <th>output</th>\n",
       "      <th>l0</th>\n",
       "      <th>l1</th>\n",
       "      <th>l2</th>\n",
       "      <th>l3</th>\n",
       "      <th>l4</th>\n",
       "      <th>correct</th>\n",
       "    </tr>\n",
       "  </thead>\n",
       "  <tbody>\n",
       "    <tr>\n",
       "      <th>0</th>\n",
       "      <td>213</td>\n",
       "      <td>3</td>\n",
       "      <td>3</td>\n",
       "      <td>10001110011101010010000111011010</td>\n",
       "      <td>00100000111100011010011110010111</td>\n",
       "      <td>11111011001110110110111101111010</td>\n",
       "      <td>11011111000111001111100101011101</td>\n",
       "      <td>01000001111001001011111110001111</td>\n",
       "      <td>1</td>\n",
       "    </tr>\n",
       "    <tr>\n",
       "      <th>1</th>\n",
       "      <td>9637</td>\n",
       "      <td>7</td>\n",
       "      <td>7</td>\n",
       "      <td>00101010111101010001100001010110</td>\n",
       "      <td>00101000101100011010011110000110</td>\n",
       "      <td>10110011001110110110101101111111</td>\n",
       "      <td>11011110100111001111100101000000</td>\n",
       "      <td>11000101111010000011111010011001</td>\n",
       "      <td>1</td>\n",
       "    </tr>\n",
       "    <tr>\n",
       "      <th>2</th>\n",
       "      <td>2535</td>\n",
       "      <td>6</td>\n",
       "      <td>6</td>\n",
       "      <td>00011110101110010000100000010010</td>\n",
       "      <td>00111000101100101110111000111010</td>\n",
       "      <td>11010010010010111111101101011111</td>\n",
       "      <td>01010101101001011111111110011110</td>\n",
       "      <td>00111001100011100010110000011111</td>\n",
       "      <td>1</td>\n",
       "    </tr>\n",
       "    <tr>\n",
       "      <th>3</th>\n",
       "      <td>5543</td>\n",
       "      <td>8</td>\n",
       "      <td>8</td>\n",
       "      <td>00101001001111010010010011111100</td>\n",
       "      <td>00111000100100111110011100011111</td>\n",
       "      <td>11110011011011111010101101011101</td>\n",
       "      <td>11011111101011010111110001011100</td>\n",
       "      <td>01110101100011100010111000001111</td>\n",
       "      <td>1</td>\n",
       "    </tr>\n",
       "    <tr>\n",
       "      <th>4</th>\n",
       "      <td>1896</td>\n",
       "      <td>5</td>\n",
       "      <td>5</td>\n",
       "      <td>00011000011100011010000011111000</td>\n",
       "      <td>01101000111110011111011100010111</td>\n",
       "      <td>11110001011010111100101101101111</td>\n",
       "      <td>01011111101110011111110101010100</td>\n",
       "      <td>01110101011011100010111000001101</td>\n",
       "      <td>1</td>\n",
       "    </tr>\n",
       "  </tbody>\n",
       "</table>\n",
       "</div>"
      ],
      "text/plain": [
       "  instance label output                                l0  \\\n",
       "0      213     3      3  10001110011101010010000111011010   \n",
       "1     9637     7      7  00101010111101010001100001010110   \n",
       "2     2535     6      6  00011110101110010000100000010010   \n",
       "3     5543     8      8  00101001001111010010010011111100   \n",
       "4     1896     5      5  00011000011100011010000011111000   \n",
       "\n",
       "                                 l1                                l2  \\\n",
       "0  00100000111100011010011110010111  11111011001110110110111101111010   \n",
       "1  00101000101100011010011110000110  10110011001110110110101101111111   \n",
       "2  00111000101100101110111000111010  11010010010010111111101101011111   \n",
       "3  00111000100100111110011100011111  11110011011011111010101101011101   \n",
       "4  01101000111110011111011100010111  11110001011010111100101101101111   \n",
       "\n",
       "                                 l3                                l4  correct  \n",
       "0  11011111000111001111100101011101  01000001111001001011111110001111        1  \n",
       "1  11011110100111001111100101000000  11000101111010000011111010011001        1  \n",
       "2  01010101101001011111111110011110  00111001100011100010110000011111        1  \n",
       "3  11011111101011010111110001011100  01110101100011100010111000001111        1  \n",
       "4  01011111101110011111110101010100  01110101011011100010111000001101        1  "
      ]
     },
     "execution_count": 23,
     "metadata": {},
     "output_type": "execute_result"
    }
   ],
   "source": [
    "test_df = data['test_apdf']\n",
    "\n",
    "# Add column for correct/wrong instances \n",
    "test_df['correct'] = np.where(test_df.label == test_df.output, 1, 0)\n",
    "\n",
    "test_df.head()"
   ]
  },
  {
   "cell_type": "markdown",
   "metadata": {
    "Collapsed": "false"
   },
   "source": [
    "### Load Forgetting Events Dictionary"
   ]
  },
  {
   "cell_type": "code",
   "execution_count": 24,
   "metadata": {
    "Collapsed": "false"
   },
   "outputs": [
    {
     "data": {
      "text/html": [
       "<div>\n",
       "<style scoped>\n",
       "    .dataframe tbody tr th:only-of-type {\n",
       "        vertical-align: middle;\n",
       "    }\n",
       "\n",
       "    .dataframe tbody tr th {\n",
       "        vertical-align: top;\n",
       "    }\n",
       "\n",
       "    .dataframe thead th {\n",
       "        text-align: right;\n",
       "    }\n",
       "</style>\n",
       "<table border=\"1\" class=\"dataframe\">\n",
       "  <thead>\n",
       "    <tr style=\"text-align: right;\">\n",
       "      <th></th>\n",
       "      <th>instance</th>\n",
       "      <th>forget_events</th>\n",
       "    </tr>\n",
       "  </thead>\n",
       "  <tbody>\n",
       "    <tr>\n",
       "      <th>0</th>\n",
       "      <td>40254</td>\n",
       "      <td>0</td>\n",
       "    </tr>\n",
       "    <tr>\n",
       "      <th>1</th>\n",
       "      <td>50629</td>\n",
       "      <td>0</td>\n",
       "    </tr>\n",
       "    <tr>\n",
       "      <th>2</th>\n",
       "      <td>28765</td>\n",
       "      <td>0</td>\n",
       "    </tr>\n",
       "    <tr>\n",
       "      <th>3</th>\n",
       "      <td>16739</td>\n",
       "      <td>0</td>\n",
       "    </tr>\n",
       "    <tr>\n",
       "      <th>4</th>\n",
       "      <td>16879</td>\n",
       "      <td>0</td>\n",
       "    </tr>\n",
       "  </tbody>\n",
       "</table>\n",
       "</div>"
      ],
      "text/plain": [
       "   instance  forget_events\n",
       "0     40254              0\n",
       "1     50629              0\n",
       "2     28765              0\n",
       "3     16739              0\n",
       "4     16879              0"
      ]
     },
     "execution_count": 24,
     "metadata": {},
     "output_type": "execute_result"
    }
   ],
   "source": [
    "# Dictionary with epochs for learning/forgetting events\n",
    "forget = data['forgetting_events']\n",
    "\n",
    "keys = list(forget.keys())\n",
    "forget_df = pd.DataFrame(keys, columns=['instance'])\n",
    "\n",
    "# Compute number of forgetting events for each instance\n",
    "forget_df['forget_events'] = forget_df.apply(lambda x: len(forget[x.instance]['forget-events']), axis=1)\n",
    "\n",
    "forget_df.head()"
   ]
  },
  {
   "cell_type": "markdown",
   "metadata": {
    "Collapsed": "false"
   },
   "source": [
    "# APDF - clustering"
   ]
  },
  {
   "cell_type": "code",
   "execution_count": 25,
   "metadata": {
    "Collapsed": "false"
   },
   "outputs": [
    {
     "name": "stdout",
     "output_type": "stream",
     "text": [
      "Progress: 100/100\r"
     ]
    }
   ],
   "source": [
    "train_dec = DecisionTree(train_df, layers_idx, split_col=\"output\")"
   ]
  },
  {
   "cell_type": "code",
   "execution_count": 26,
   "metadata": {
    "Collapsed": "false"
   },
   "outputs": [
    {
     "name": "stdout",
     "output_type": "stream",
     "text": [
      "Progress: 100/100\r"
     ]
    }
   ],
   "source": [
    "test_dec = DecisionTree(test_df, layers_idx, split_col=\"output\")"
   ]
  },
  {
   "cell_type": "code",
   "execution_count": 27,
   "metadata": {
    "Collapsed": "false"
   },
   "outputs": [
    {
     "data": {
      "text/html": [
       "<div>\n",
       "<style scoped>\n",
       "    .dataframe tbody tr th:only-of-type {\n",
       "        vertical-align: middle;\n",
       "    }\n",
       "\n",
       "    .dataframe tbody tr th {\n",
       "        vertical-align: top;\n",
       "    }\n",
       "\n",
       "    .dataframe thead th {\n",
       "        text-align: right;\n",
       "    }\n",
       "</style>\n",
       "<table border=\"1\" class=\"dataframe\">\n",
       "  <thead>\n",
       "    <tr style=\"text-align: right;\">\n",
       "      <th></th>\n",
       "      <th>instance</th>\n",
       "      <th>clust_size</th>\n",
       "      <th>clust_id</th>\n",
       "    </tr>\n",
       "  </thead>\n",
       "  <tbody>\n",
       "    <tr>\n",
       "      <th>0</th>\n",
       "      <td>14753</td>\n",
       "      <td>1</td>\n",
       "      <td>0</td>\n",
       "    </tr>\n",
       "    <tr>\n",
       "      <th>1</th>\n",
       "      <td>45408</td>\n",
       "      <td>1</td>\n",
       "      <td>1</td>\n",
       "    </tr>\n",
       "    <tr>\n",
       "      <th>2</th>\n",
       "      <td>34237</td>\n",
       "      <td>1</td>\n",
       "      <td>2</td>\n",
       "    </tr>\n",
       "    <tr>\n",
       "      <th>3</th>\n",
       "      <td>203</td>\n",
       "      <td>1</td>\n",
       "      <td>3</td>\n",
       "    </tr>\n",
       "    <tr>\n",
       "      <th>4</th>\n",
       "      <td>19590</td>\n",
       "      <td>1</td>\n",
       "      <td>4</td>\n",
       "    </tr>\n",
       "  </tbody>\n",
       "</table>\n",
       "</div>"
      ],
      "text/plain": [
       "  instance clust_size clust_id\n",
       "0    14753          1        0\n",
       "1    45408          1        1\n",
       "2    34237          1        2\n",
       "3      203          1        3\n",
       "4    19590          1        4"
      ]
     },
     "execution_count": 27,
     "metadata": {},
     "output_type": "execute_result"
    }
   ],
   "source": [
    "train_clusters_df = train_dec.clust_df\n",
    "test_clusters_df = test_dec.clust_df\n",
    "train_clusters_df.head()"
   ]
  },
  {
   "cell_type": "markdown",
   "metadata": {
    "Collapsed": "false"
   },
   "source": [
    "# Data Viz"
   ]
  },
  {
   "cell_type": "code",
   "execution_count": 28,
   "metadata": {
    "Collapsed": "false"
   },
   "outputs": [],
   "source": [
    "sns.set(style=\"ticks\", font_scale=1.5)"
   ]
  },
  {
   "cell_type": "markdown",
   "metadata": {
    "Collapsed": "false"
   },
   "source": [
    "### Count Actiation Patterns"
   ]
  },
  {
   "cell_type": "code",
   "execution_count": 29,
   "metadata": {
    "Collapsed": "false"
   },
   "outputs": [],
   "source": [
    "patt_count = []\n",
    "df_label = ['train', 'test']\n",
    "for i, df in enumerate([train_df, test_df]):\n",
    "    for l in layers_idx:\n",
    "        # Unique activation patterns\n",
    "        unique = np.unique(df[l])\n",
    "        patt_count.append([df_label[i], l, len(unique)])\n",
    "\n",
    "patt_count_df = pd.DataFrame(patt_count, columns=['dataset', 'layer', '# patterns'])"
   ]
  },
  {
   "cell_type": "code",
   "execution_count": 30,
   "metadata": {
    "Collapsed": "false"
   },
   "outputs": [
    {
     "data": {
      "image/png": "[encoded data removed]",
      "text/plain": [
       "<Figure size 432x288 with 1 Axes>"
      ]
     },
     "metadata": {},
     "output_type": "display_data"
    }
   ],
   "source": [
    "sns.barplot('layer', '# patterns', 'dataset', data=patt_count_df)\n",
    "plt.title('Number activation patterns / layer');"
   ]
  },
  {
   "cell_type": "markdown",
   "metadata": {
    "Collapsed": "false"
   },
   "source": [
    "### Forgetting Events Distribution"
   ]
  },
  {
   "cell_type": "code",
   "execution_count": 32,
   "metadata": {
    "Collapsed": "false"
   },
   "outputs": [
    {
     "data": {
      "image/png": "[encoded data removed]",
      "text/plain": [
       "<Figure size 432x288 with 1 Axes>"
      ]
     },
     "metadata": {},
     "output_type": "display_data"
    }
   ],
   "source": [
    "max_forget = np.max(forget_df['forget_events'])\n",
    "sns.distplot(forget_df['forget_events'], kde=False, bins=list(range(max_forget)))\n",
    "plt.title(\"Forgetting Events Histogram\");"
   ]
  },
  {
   "cell_type": "markdown",
   "metadata": {
    "Collapsed": "false"
   },
   "source": [
    "### APDF Cluster Size Distribution"
   ]
  },
  {
   "cell_type": "code",
   "execution_count": 33,
   "metadata": {
    "Collapsed": "false"
   },
   "outputs": [],
   "source": [
    "train_clusters_df['dataset'] = 'train'\n",
    "test_clusters_df['dataset'] = 'test'\n",
    "\n",
    "both_clust_df = train_clusters_df.append(test_clusters_df)\n",
    "both_clust_df['clust_size'] = pd.to_numeric(both_clust_df['clust_size'])"
   ]
  },
  {
   "cell_type": "code",
   "execution_count": 34,
   "metadata": {
    "Collapsed": "false"
   },
   "outputs": [
    {
     "data": {
      "image/png": "[encoded data removed]",
      "text/plain": [
       "<Figure size 432x288 with 1 Axes>"
      ]
     },
     "metadata": {},
     "output_type": "display_data"
    }
   ],
   "source": [
    "sns.boxplot('clust_size', 'dataset', data=both_clust_df)\n",
    "plt.title('Cluster size by dataset');"
   ]
  }
 ],
 "metadata": {
  "kernelspec": {
   "display_name": "Python 3",
   "language": "python",
   "name": "python3"
  },
  "language_info": {
   "codemirror_mode": {
    "name": "ipython",
    "version": 3
   },
   "file_extension": ".py",
   "mimetype": "text/x-python",
   "name": "python",
   "nbconvert_exporter": "python",
   "pygments_lexer": "ipython3",
   "version": "3.7.4"
  }
 },
 "nbformat": 4,
 "nbformat_minor": 4
}
